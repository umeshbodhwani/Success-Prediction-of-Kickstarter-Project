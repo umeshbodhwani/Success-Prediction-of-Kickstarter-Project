{
 "cells": [
  {
   "cell_type": "code",
   "execution_count": 1,
   "metadata": {},
   "outputs": [],
   "source": [
    "import requests\n",
    "from bs4 import BeautifulSoup\n",
    "import io\n",
    "import pandas as pd\n",
    "import numpy as np\n",
    "import matplotlib.pyplot as plt\n",
    "from zipfile import ZipFile\n",
    "%matplotlib inline"
   ]
  },
  {
   "cell_type": "code",
   "execution_count": 2,
   "metadata": {},
   "outputs": [],
   "source": [
    "def get_kickstarter_df_2019():\n",
    "    \n",
    "    response = requests.get('https://webrobots.io/kickstarter-datasets/')\n",
    "    \n",
    "    try:\n",
    "        while response.status_code != 200:\n",
    "            response = requests.get('https://webrobots.io/kickstarter-datasets/')\n",
    "    except:\n",
    "        return None\n",
    "\n",
    "    soup = BeautifulSoup(response.content, 'lxml')\n",
    "\n",
    "    all_lis = soup.find('div', class_ = 'fusion-text').find_all('li')\n",
    "\n",
    "    zips_2019 = [li.find_all('a')[-1].get('href') for li in all_lis if '2019' in li.find_all('a')[-1].get('href')]\n",
    "    zips_2019 = zips_2019[:3]\n",
    "\n",
    "    all_dfs = []\n",
    "    for link in zips_2019:\n",
    "        response_zip = requests.get(link)\n",
    "\n",
    "        zip_file = ZipFile(io.BytesIO(response_zip.content), 'r') \n",
    "        dfs_ = [pd.read_csv(zip_file.open(text_file.filename))\n",
    "               for text_file in zip_file.infolist()\n",
    "               if text_file.filename.endswith('.csv')]\n",
    "\n",
    "        all_dfs.extend(dfs_)\n",
    "\n",
    "    df_ = pd.concat(all_dfs, sort=False)\n",
    "\n",
    "    return df_\n"
   ]
  },
  {
   "cell_type": "code",
   "execution_count": 3,
   "metadata": {},
   "outputs": [],
   "source": [
    "df = get_kickstarter_df_2019()"
   ]
  },
  {
   "cell_type": "code",
   "execution_count": 4,
   "metadata": {},
   "outputs": [
    {
     "data": {
      "text/plain": [
       "(630308, 38)"
      ]
     },
     "execution_count": 4,
     "metadata": {},
     "output_type": "execute_result"
    }
   ],
   "source": [
    "df.shape"
   ]
  },
  {
   "cell_type": "code",
   "execution_count": 5,
   "metadata": {},
   "outputs": [],
   "source": [
    "## save df\n",
    "\n",
    "# commenting this cell as data change with time\n",
    "# df.to_csv('../data/kickstarter_sub.zip', compression='zip')"
   ]
  }
 ],
 "metadata": {
  "kernelspec": {
   "display_name": "Python 3",
   "language": "python",
   "name": "python3"
  },
  "language_info": {
   "codemirror_mode": {
    "name": "ipython",
    "version": 3
   },
   "file_extension": ".py",
   "mimetype": "text/x-python",
   "name": "python",
   "nbconvert_exporter": "python",
   "pygments_lexer": "ipython3",
   "version": "3.7.6"
  }
 },
 "nbformat": 4,
 "nbformat_minor": 2
}
